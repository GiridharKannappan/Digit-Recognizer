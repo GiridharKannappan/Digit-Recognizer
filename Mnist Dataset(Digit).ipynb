{
 "cells": [
  {
   "cell_type": "code",
   "execution_count": 1,
   "metadata": {},
   "outputs": [
    {
     "name": "stderr",
     "output_type": "stream",
     "text": [
      "Using TensorFlow backend.\n"
     ]
    }
   ],
   "source": [
    "import numpy as np\n",
    "import os\n",
    "from keras.layers import Dense, Activation, Dropout\n",
    "from keras.models import Sequential\n",
    "from keras.utils import np_utils\n",
    "from keras.datasets import mnist"
   ]
  },
  {
   "cell_type": "markdown",
   "metadata": {},
   "source": [
    "# variables"
   ]
  },
  {
   "cell_type": "code",
   "execution_count": 3,
   "metadata": {},
   "outputs": [],
   "source": [
    "np.random.seed(100)\n",
    "batch_size = 128\n",
    "labels = 10\n",
    "epochs = 20"
   ]
  },
  {
   "cell_type": "code",
   "execution_count": 67,
   "metadata": {},
   "outputs": [],
   "source": [
    "(x_train_ , y_train_) , (x_test_ , y_test_) = mnist.load_data()\n",
    "x_train = x_train_.reshape(60000,784)\n",
    "x_test = x_test_.reshape(10000,784)"
   ]
  },
  {
   "cell_type": "code",
   "execution_count": null,
   "metadata": {},
   "outputs": [],
   "source": []
  },
  {
   "cell_type": "code",
   "execution_count": 68,
   "metadata": {},
   "outputs": [],
   "source": [
    "x_train = x_train.astype('float32')\n",
    "x_test = x_test.astype('float32')"
   ]
  },
  {
   "cell_type": "code",
   "execution_count": 69,
   "metadata": {},
   "outputs": [],
   "source": [
    "x_train = (x_train -np.mean(x_train))/np.std(x_train)\n",
    "x_test = (x_test -np.mean(x_test))/np.std(x_test)"
   ]
  },
  {
   "cell_type": "markdown",
   "metadata": {},
   "source": [
    "# shape of data"
   ]
  },
  {
   "cell_type": "code",
   "execution_count": 70,
   "metadata": {},
   "outputs": [
    {
     "name": "stdout",
     "output_type": "stream",
     "text": [
      "60000\n",
      "10000\n"
     ]
    }
   ],
   "source": [
    "print(x_train.shape[0])\n",
    "print(x_test.shape[0])"
   ]
  },
  {
   "cell_type": "code",
   "execution_count": 71,
   "metadata": {},
   "outputs": [],
   "source": [
    "x_train/=255\n",
    "x_test/=255"
   ]
  },
  {
   "cell_type": "code",
   "execution_count": 72,
   "metadata": {},
   "outputs": [],
   "source": [
    "labels =10\n",
    "y_train = np_utils.to_categorical(y_train,labels)\n",
    "y_test = np_utils.to_categorical(y_test,labels)"
   ]
  },
  {
   "cell_type": "code",
   "execution_count": 73,
   "metadata": {},
   "outputs": [],
   "source": [
    "model = Sequential()\n",
    "model.add(Dense(512,input_shape=(784,)))\n",
    "model.add(Activation('relu'))\n",
    "model.add(Dropout(0.2))\n",
    "model.add(Dense(120, activation='relu'))\n",
    "model.add(Dropout(0.2))\n",
    "model.add(Dense(10))\n",
    "model.add(Activation('softmax'))"
   ]
  },
  {
   "cell_type": "code",
   "execution_count": 74,
   "metadata": {},
   "outputs": [],
   "source": [
    "model.compile(loss='categorical_crossentropy',optimizer='adam',metrics=['accuracy'])"
   ]
  },
  {
   "cell_type": "code",
   "execution_count": 75,
   "metadata": {},
   "outputs": [
    {
     "name": "stdout",
     "output_type": "stream",
     "text": [
      "Train on 60000 samples, validate on 10000 samples\n",
      "Epoch 1/5\n",
      "60000/60000 [==============================] - 20s 334us/step - loss: 0.6434 - acc: 0.8162 - val_loss: 0.3034 - val_acc: 0.9109\n",
      "Epoch 2/5\n",
      "60000/60000 [==============================] - 15s 252us/step - loss: 0.2954 - acc: 0.9120 - val_loss: 0.2236 - val_acc: 0.9325\n",
      "Epoch 3/5\n",
      "60000/60000 [==============================] - 15s 252us/step - loss: 0.2233 - acc: 0.9339 - val_loss: 0.1735 - val_acc: 0.9480\n",
      "Epoch 4/5\n",
      "60000/60000 [==============================] - 15s 255us/step - loss: 0.1753 - acc: 0.9477 - val_loss: 0.1370 - val_acc: 0.9587\n",
      "Epoch 5/5\n",
      "60000/60000 [==============================] - 15s 257us/step - loss: 0.1443 - acc: 0.9571 - val_loss: 0.1178 - val_acc: 0.9628\n"
     ]
    },
    {
     "data": {
      "text/plain": [
       "<keras.callbacks.History at 0x23a44bf4d30>"
      ]
     },
     "execution_count": 75,
     "metadata": {},
     "output_type": "execute_result"
    }
   ],
   "source": [
    "model.fit(x_train,y_train,epochs=5,verbose=1,validation_data=(x_test,y_test),batch_size=100)"
   ]
  },
  {
   "cell_type": "code",
   "execution_count": 76,
   "metadata": {},
   "outputs": [
    {
     "name": "stdout",
     "output_type": "stream",
     "text": [
      "10000/10000 [==============================] - 1s 110us/step\n"
     ]
    }
   ],
   "source": [
    "score = model.evaluate(x_test,y_test,verbose=1)"
   ]
  },
  {
   "cell_type": "code",
   "execution_count": 77,
   "metadata": {},
   "outputs": [
    {
     "data": {
      "text/plain": [
       "0.9628"
      ]
     },
     "execution_count": 77,
     "metadata": {},
     "output_type": "execute_result"
    }
   ],
   "source": [
    "score[1]"
   ]
  },
  {
   "cell_type": "markdown",
   "metadata": {},
   "source": [
    "# Callbacks history (google history)"
   ]
  },
  {
   "cell_type": "code",
   "execution_count": 78,
   "metadata": {},
   "outputs": [],
   "source": [
    "import keras"
   ]
  },
  {
   "cell_type": "code",
   "execution_count": 79,
   "metadata": {},
   "outputs": [],
   "source": [
    "class LossHistory(keras.callbacks.Callback):\n",
    "    def on_train_begin(self, logs={}):\n",
    "        self.losses = []\n",
    "\n",
    "    def on_batch_end(self, batch, logs={}):\n",
    "        self.losses.append(logs.get('loss'))"
   ]
  },
  {
   "cell_type": "code",
   "execution_count": 80,
   "metadata": {},
   "outputs": [],
   "source": [
    "history = LossHistory()"
   ]
  },
  {
   "cell_type": "code",
   "execution_count": 81,
   "metadata": {},
   "outputs": [
    {
     "name": "stdout",
     "output_type": "stream",
     "text": [
      "Train on 60000 samples, validate on 10000 samples\n",
      "Epoch 1/1\n",
      "60000/60000 [==============================] - 13s 218us/step - loss: 0.1218 - acc: 0.9638 - val_loss: 0.1039 - val_acc: 0.9684\n"
     ]
    },
    {
     "data": {
      "text/plain": [
       "<keras.callbacks.History at 0x23a44bf46d8>"
      ]
     },
     "execution_count": 81,
     "metadata": {},
     "output_type": "execute_result"
    }
   ],
   "source": [
    "model.fit(x_train, y_train, batch_size=128, epochs=1, verbose=1, validation_data=(x_test, y_test), callbacks=[history])"
   ]
  },
  {
   "cell_type": "code",
   "execution_count": 82,
   "metadata": {},
   "outputs": [
    {
     "name": "stdout",
     "output_type": "stream",
     "text": [
      "[0.26959556, 0.084431, 0.0664006, 0.119381785, 0.14516003, 0.08030293, 0.1378189, 0.12684095, 0.10501286, 0.12237835, 0.112791926, 0.17994982, 0.12150326, 0.15864305, 0.23812729, 0.12216793, 0.0642079, 0.05672116, 0.0737747, 0.08516404, 0.107878655, 0.07171188, 0.14623779, 0.18573454, 0.114632204, 0.21194929, 0.07854673, 0.18266386, 0.08200428, 0.12684518, 0.05106365, 0.16512448, 0.18240565, 0.12245728, 0.14532433, 0.11252062, 0.28521198, 0.069196336, 0.1020225, 0.101825766, 0.10127031, 0.103400186, 0.11992995, 0.086615324, 0.1015174, 0.15212159, 0.11904257, 0.10610078, 0.15014872, 0.09872113, 0.10416564, 0.106810614, 0.13775511, 0.14603281, 0.07908912, 0.20063958, 0.13533461, 0.19199136, 0.08006394, 0.053984974, 0.25751686, 0.086550005, 0.11007413, 0.17771375, 0.20341466, 0.062020615, 0.06517248, 0.079132125, 0.11561572, 0.16247962, 0.18149568, 0.12976983, 0.20023662, 0.12206541, 0.19196963, 0.13258013, 0.11470376, 0.08028895, 0.112844214, 0.14536598, 0.2058475, 0.14887023, 0.21587358, 0.10101507, 0.106449164, 0.15243958, 0.13567898, 0.1417656, 0.13231987, 0.14755699, 0.1718909, 0.176862, 0.12400693, 0.09318276, 0.073177956, 0.18396312, 0.16663955, 0.07927726, 0.105284676, 0.10066277, 0.10876449, 0.08346206, 0.19881809, 0.21494783, 0.07702607, 0.098842576, 0.114710644, 0.09842472, 0.113461815, 0.16126844, 0.21997511, 0.04816478, 0.24415046, 0.106151655, 0.14657709, 0.101012714, 0.050414637, 0.14859912, 0.11538184, 0.099077344, 0.15403233, 0.08209683, 0.075034924, 0.087611, 0.097114384, 0.060652398, 0.15786123, 0.15871331, 0.17216535, 0.041452266, 0.08743264, 0.084255636, 0.11193924, 0.073594525, 0.10223339, 0.088887505, 0.13456503, 0.11972584, 0.18827078, 0.19083935, 0.11913544, 0.12150065, 0.08274157, 0.115429506, 0.19150862, 0.13704267, 0.19996117, 0.18050532, 0.08888103, 0.17329964, 0.09924149, 0.09008448, 0.12265526, 0.10387485, 0.06591034, 0.10864594, 0.1279068, 0.12531838, 0.042715296, 0.06533289, 0.13111308, 0.06858432, 0.13432953, 0.102024175, 0.117718935, 0.12906724, 0.12259105, 0.090152845, 0.114816785, 0.07201952, 0.0831399, 0.06324514, 0.12990975, 0.1417873, 0.15556768, 0.08597731, 0.13676183, 0.12132251, 0.1946118, 0.12791628, 0.15961479, 0.0967065, 0.061808042, 0.07331812, 0.09229136, 0.06713918, 0.2121297, 0.15886173, 0.08812614, 0.086721346, 0.096451946, 0.16999, 0.1527845, 0.08758029, 0.10708338, 0.20563295, 0.11075577, 0.09722544, 0.08668718, 0.11016457, 0.10000165, 0.09848538, 0.15048169, 0.2254645, 0.07973789, 0.1633515, 0.048662342, 0.1776841, 0.14557014, 0.080943525, 0.0347963, 0.17844488, 0.109284736, 0.10513891, 0.1095317, 0.11914974, 0.06470932, 0.14472865, 0.069844805, 0.20721552, 0.070116766, 0.16355681, 0.08133043, 0.048655648, 0.09744366, 0.11263727, 0.089841746, 0.22135971, 0.09104374, 0.12669009, 0.14207901, 0.16684437, 0.1651105, 0.13481991, 0.19773786, 0.042145442, 0.1717616, 0.20349623, 0.12822497, 0.07854938, 0.07434221, 0.0771507, 0.12534435, 0.10602665, 0.119312584, 0.10573916, 0.18538433, 0.10923397, 0.15719044, 0.15308428, 0.1561863, 0.07277728, 0.1145076, 0.122729525, 0.10322786, 0.06885995, 0.106315725, 0.17674884, 0.14326933, 0.031498507, 0.17625368, 0.07409917, 0.12112413, 0.11231136, 0.03678616, 0.04614064, 0.20212534, 0.08369377, 0.08635846, 0.07126917, 0.18196158, 0.16001089, 0.09517487, 0.060449142, 0.12418567, 0.089122295, 0.15441495, 0.09112203, 0.15818566, 0.16067803, 0.18719609, 0.07676331, 0.18056467, 0.05718147, 0.079076014, 0.14369279, 0.17296717, 0.15934703, 0.103112236, 0.08360441, 0.061910093, 0.14246967, 0.063203484, 0.076604925, 0.13884422, 0.059016183, 0.090486094, 0.050856378, 0.11395009, 0.113010265, 0.0674936, 0.06160987, 0.12533748, 0.13693015, 0.08235348, 0.18373477, 0.0766246, 0.19069242, 0.113046445, 0.10654885, 0.046277046, 0.08163229, 0.08037504, 0.08411453, 0.074696764, 0.12469883, 0.07024617, 0.10858282, 0.13369241, 0.16229081, 0.23128474, 0.12630515, 0.2652149, 0.18111539, 0.110189825, 0.08164808, 0.06957182, 0.06310706, 0.09637587, 0.14708826, 0.057684902, 0.100964494, 0.14252016, 0.10641669, 0.07037336, 0.12572068, 0.07678, 0.072386414, 0.163945, 0.10809756, 0.052776378, 0.14062995, 0.073096536, 0.15290275, 0.07479086, 0.114892974, 0.0950651, 0.085964374, 0.08708488, 0.14177282, 0.103344046, 0.086925626, 0.0919708, 0.16050808, 0.17388418, 0.17354035, 0.25506496, 0.14614287, 0.14471367, 0.10367046, 0.137799, 0.1654469, 0.11243457, 0.12679124, 0.11711913, 0.19239765, 0.06878027, 0.16973495, 0.10711813, 0.12076551, 0.07253234, 0.16045244, 0.062815756, 0.22158125, 0.07456756, 0.15856929, 0.1494648, 0.08681248, 0.13065359, 0.10504294, 0.09335883, 0.080739945, 0.14357072, 0.10542542, 0.09624688, 0.114756815, 0.16687703, 0.100035295, 0.11478062, 0.20686668, 0.0731473, 0.08691837, 0.14964263, 0.2223602, 0.09920406, 0.06496765, 0.16963126, 0.099906996, 0.16041625, 0.13926697, 0.10712527, 0.08582566, 0.21949759, 0.15049896, 0.16786484, 0.16167521, 0.18562946, 0.07868962, 0.098147735, 0.16647112, 0.117333636, 0.11888179, 0.121003896, 0.066226065, 0.056761667, 0.08976816, 0.14354402, 0.0744369, 0.077279985, 0.20297082, 0.16248466, 0.116204165, 0.09319238, 0.14152944, 0.0744868, 0.11534673, 0.12869683, 0.089343145, 0.15926233, 0.08052092, 0.1479696, 0.10928269, 0.06442498, 0.18769419, 0.08162238, 0.089216664, 0.17378211, 0.08912507, 0.22117977, 0.14944819, 0.20582555, 0.22501902, 0.07076056, 0.036172107, 0.20133927, 0.060994327, 0.11496, 0.18625784, 0.066927515, 0.14416572, 0.13799876, 0.17637041, 0.15813631, 0.046585623, 0.12985376, 0.13683295, 0.22682486, 0.19170064, 0.13313626, 0.093973905, 0.12959528, 0.14832735, 0.121244155, 0.10599816, 0.09556313, 0.08711109, 0.08550709, 0.06054581, 0.07611942]\n"
     ]
    }
   ],
   "source": [
    "print(history.losses)"
   ]
  },
  {
   "cell_type": "markdown",
   "metadata": {},
   "source": [
    "# save models"
   ]
  },
  {
   "cell_type": "code",
   "execution_count": 27,
   "metadata": {},
   "outputs": [
    {
     "data": {
      "text/plain": [
       "'C:\\\\Users\\\\User\\\\ANalytics'"
      ]
     },
     "execution_count": 27,
     "metadata": {},
     "output_type": "execute_result"
    }
   ],
   "source": [
    "pwd"
   ]
  },
  {
   "cell_type": "code",
   "execution_count": 30,
   "metadata": {},
   "outputs": [],
   "source": []
  },
  {
   "cell_type": "code",
   "execution_count": 83,
   "metadata": {},
   "outputs": [],
   "source": [
    "model.save_weights('../datas/mnist_lr_weights.h5', overwrite=True)"
   ]
  },
  {
   "cell_type": "code",
   "execution_count": 84,
   "metadata": {},
   "outputs": [],
   "source": [
    "model.save('../datas/mnist_lr.h5')"
   ]
  },
  {
   "cell_type": "code",
   "execution_count": 85,
   "metadata": {},
   "outputs": [],
   "source": [
    "from keras.models import load_model"
   ]
  },
  {
   "cell_type": "code",
   "execution_count": 86,
   "metadata": {},
   "outputs": [],
   "source": [
    "model_new = load_model('../datas/mnist_lr.h5')"
   ]
  },
  {
   "cell_type": "code",
   "execution_count": 87,
   "metadata": {},
   "outputs": [],
   "source": [
    "preds=model_new.predict(x_test)"
   ]
  },
  {
   "cell_type": "code",
   "execution_count": 88,
   "metadata": {},
   "outputs": [
    {
     "data": {
      "text/plain": [
       "array([1.00044645e-05, 1.74921399e-06, 4.31989785e-04, 1.05334492e-03,\n",
       "       6.15954647e-08, 1.77043330e-05, 1.62125036e-10, 9.98300850e-01,\n",
       "       6.58693125e-06, 1.77791109e-04], dtype=float32)"
      ]
     },
     "execution_count": 88,
     "metadata": {},
     "output_type": "execute_result"
    }
   ],
   "source": [
    "preds[0]"
   ]
  },
  {
   "cell_type": "code",
   "execution_count": 90,
   "metadata": {},
   "outputs": [
    {
     "data": {
      "image/png": "[encoded data removed]",
      "text/plain": [
       "<Figure size 1080x1080 with 10 Axes>"
      ]
     },
     "metadata": {
      "needs_background": "light"
     },
     "output_type": "display_data"
    }
   ],
   "source": [
    "import matplotlib.pyplot as plt\n",
    "import numpy as np\n",
    "n = 10\n",
    "plt.figure(figsize=(15,15))\n",
    "for i in range(n):\n",
    "    plt.subplot(1, n, i + 1)\n",
    "    plt.imshow(x_test_[i], cmap='gray')\n",
    "    plt.title(\"Label: {}\\nPredicted: {}\".format(y_test_[i], np.argmax(preds[i])))\n",
    "    plt.axis('off')\n",
    "plt.show()"
   ]
  },
  {
   "cell_type": "code",
   "execution_count": null,
   "metadata": {},
   "outputs": [],
   "source": []
  }
 ],
 "metadata": {
  "kernelspec": {
   "display_name": "tensorflow-cpu",
   "language": "python",
   "name": "tensorflows"
  },
  "language_info": {
   "codemirror_mode": {
    "name": "ipython",
    "version": 3
   },
   "file_extension": ".py",
   "mimetype": "text/x-python",
   "name": "python",
   "nbconvert_exporter": "python",
   "pygments_lexer": "ipython3",
   "version": "3.6.9"
  }
 },
 "nbformat": 4,
 "nbformat_minor": 2
}
